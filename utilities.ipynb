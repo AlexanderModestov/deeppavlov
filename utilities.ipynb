{
 "cells": [
  {
   "cell_type": "code",
   "execution_count": 1,
   "outputs": [],
   "source": [
    "from deeppavlov import configs, train_model\n",
    "import json\n",
    "import pandas as pd"
   ],
   "metadata": {
    "collapsed": false,
    "ExecuteTime": {
     "end_time": "2023-08-14T20:57:10.578710800Z",
     "start_time": "2023-08-14T20:57:08.613463Z"
    }
   },
   "id": "878e61ebbad66ad5"
  },
  {
   "cell_type": "code",
   "execution_count": 2,
   "outputs": [],
   "source": [
    "config = json.load(open(configs.classifiers.topics_distilbert_base_uncased))"
   ],
   "metadata": {
    "collapsed": false,
    "ExecuteTime": {
     "end_time": "2023-08-14T20:57:10.607435900Z",
     "start_time": "2023-08-14T20:57:10.580709300Z"
    }
   },
   "id": "a04b5bc0002d6eb9"
  },
  {
   "cell_type": "code",
   "execution_count": 3,
   "outputs": [
    {
     "data": {
      "text/plain": "                                             content         intent\n0                                        Спасибо нет  Благодарность\n1  спасибо за ответ. мне этого достаточно пока чт...  Благодарность\n2                                       спасибо, нет  Благодарность\n3                                           Спасибо!  Благодарность\n4                                          Благодарю  Благодарность",
      "text/html": "<div>\n<style scoped>\n    .dataframe tbody tr th:only-of-type {\n        vertical-align: middle;\n    }\n\n    .dataframe tbody tr th {\n        vertical-align: top;\n    }\n\n    .dataframe thead th {\n        text-align: right;\n    }\n</style>\n<table border=\"1\" class=\"dataframe\">\n  <thead>\n    <tr style=\"text-align: right;\">\n      <th></th>\n      <th>content</th>\n      <th>intent</th>\n    </tr>\n  </thead>\n  <tbody>\n    <tr>\n      <th>0</th>\n      <td>Спасибо нет</td>\n      <td>Благодарность</td>\n    </tr>\n    <tr>\n      <th>1</th>\n      <td>спасибо за ответ. мне этого достаточно пока чт...</td>\n      <td>Благодарность</td>\n    </tr>\n    <tr>\n      <th>2</th>\n      <td>спасибо, нет</td>\n      <td>Благодарность</td>\n    </tr>\n    <tr>\n      <th>3</th>\n      <td>Спасибо!</td>\n      <td>Благодарность</td>\n    </tr>\n    <tr>\n      <th>4</th>\n      <td>Благодарю</td>\n      <td>Благодарность</td>\n    </tr>\n  </tbody>\n</table>\n</div>"
     },
     "execution_count": 3,
     "metadata": {},
     "output_type": "execute_result"
    }
   ],
   "source": [
    "# Upload DataFrame:\n",
    "df = pd.read_csv('intents.csv', delimiter=';', encoding='cp1251')\n",
    "df[:5]"
   ],
   "metadata": {
    "collapsed": false,
    "ExecuteTime": {
     "end_time": "2023-08-14T20:57:10.703437600Z",
     "start_time": "2023-08-14T20:57:10.597172800Z"
    }
   },
   "id": "7f3632bf716e4437"
  },
  {
   "cell_type": "code",
   "execution_count": 4,
   "outputs": [],
   "source": [
    "from sklearn.model_selection import train_test_split\n",
    "# Split the data into training and testing sets\n",
    "train, test = train_test_split(df, test_size=0.2, random_state=42)"
   ],
   "metadata": {
    "collapsed": false,
    "ExecuteTime": {
     "end_time": "2023-08-14T20:57:13.381354700Z",
     "start_time": "2023-08-14T20:57:10.703437600Z"
    }
   },
   "id": "3c948e716c48fb18"
  },
  {
   "cell_type": "code",
   "execution_count": 5,
   "outputs": [],
   "source": [
    "config['dataset_reader']['x'] = 'content'\n",
    "config['dataset_reader']['y'] = 'intent'\n",
    "config['dataset_reader']['data_path'] = 'D:\\\\Projects\\\\skillBox'\n",
    "config['dataset_reader']['valid'] = 'test.csv'"
   ],
   "metadata": {
    "collapsed": false,
    "ExecuteTime": {
     "end_time": "2023-08-14T20:57:13.400354900Z",
     "start_time": "2023-08-14T20:57:13.387356100Z"
    }
   },
   "id": "f58c89dddc05fad"
  },
  {
   "cell_type": "code",
   "execution_count": 7,
   "outputs": [],
   "source": [
    "config['chainer']['in'] = 'x'\n",
    "config['chainer']['in_y'] = 'y'\n",
    "#config['chainer']['pipe']['vocab_file'] = \n",
    "#config['chainer']['pipe']['pretrained_bert'] = \"bert-base-uncased\""
   ],
   "metadata": {
    "collapsed": false,
    "ExecuteTime": {
     "end_time": "2023-08-14T20:57:23.444588300Z",
     "start_time": "2023-08-14T20:57:23.418588700Z"
    }
   },
   "id": "e62c5f79fcd93d09"
  },
  {
   "cell_type": "code",
   "execution_count": 14,
   "outputs": [],
   "source": [
    "config['chainer']['pipe'][3]['pretrained_bert']=\"bert-base-uncased\""
   ],
   "metadata": {
    "collapsed": false,
    "ExecuteTime": {
     "end_time": "2023-08-14T21:00:23.450327300Z",
     "start_time": "2023-08-14T21:00:23.430325100Z"
    }
   },
   "id": "7b75381c64b811bb"
  },
  {
   "cell_type": "code",
   "execution_count": 16,
   "outputs": [
    {
     "data": {
      "text/plain": "{'dataset_reader': {'class_name': 'basic_classification_reader',\n  'class_sep': ';',\n  'x': 'content',\n  'y': 'intent',\n  'data_path': 'D:\\\\Projects\\\\skillBox',\n  'train': 'train.csv',\n  'valid': 'test.csv'},\n 'dataset_iterator': {'class_name': 'basic_classification_iterator',\n  'seed': 42},\n 'chainer': {'in': 'x',\n  'in_y': 'y',\n  'pipe': [{'class_name': 'torch_transformers_preprocessor',\n    'vocab_file': '{TRANSFORMER}',\n    'do_lower_case': True,\n    'max_seq_length': 128,\n    'in': ['x'],\n    'out': ['bert_features']},\n   {'id': 'classes_vocab',\n    'class_name': 'simple_vocab',\n    'fit_on': ['y'],\n    'save_path': '{MODEL_PATH}/classes.dict',\n    'load_path': '{MODEL_PATH}/classes.dict',\n    'in': ['y'],\n    'out': ['y_ids']},\n   {'in': ['y_ids'],\n    'out': ['y_onehot'],\n    'class_name': 'one_hotter',\n    'id': 'my_one_hotter',\n    'depth': '#classes_vocab.len',\n    'single_vector': True},\n   {'class_name': 'torch_transformers_classifier',\n    'one_hot_labels': True,\n    'n_classes': '#classes_vocab.len',\n    'return_probas': True,\n    'pretrained_bert': 'bert-base-uncased',\n    'save_path': '{MODEL_PATH}/model',\n    'load_path': '{MODEL_PATH}/model',\n    'multilabel': True,\n    'optimizer': 'AdamW',\n    'optimizer_parameters': {'lr': 1e-05},\n    'learning_rate_drop_patience': 5,\n    'learning_rate_drop_div': 2.0,\n    'in': ['bert_features'],\n    'in_y': ['y_onehot'],\n    'out': ['y_pred_probas']},\n   {'in': 'y_pred_probas',\n    'out': 'y_pred_ids',\n    'class_name': 'proba2labels',\n    'max_proba': False,\n    'confidence_threshold': 0.5},\n   {'in': 'y_pred_ids', 'out': 'y_pred_labels', 'ref': 'classes_vocab'},\n   {'ref': 'my_one_hotter', 'in': 'y_pred_ids', 'out': 'y_pred_onehot'}],\n  'out': ['y_pred_labels']},\n 'train': {'epochs': 100,\n  'batch_size': 64,\n  'metrics': [{'name': 'f1_macro', 'inputs': ['y_onehot', 'y_pred_onehot']},\n   {'name': 'f1_weighted', 'inputs': ['y_onehot', 'y_pred_onehot']},\n   {'name': 'accuracy', 'inputs': ['y', 'y_pred_labels']},\n   {'name': 'roc_auc', 'inputs': ['y_onehot', 'y_pred_probas']}],\n  'validation_patience': 10,\n  'val_every_n_epochs': 1,\n  'log_every_n_epochs': 1,\n  'log_every_n_batches': 100,\n  'show_examples': False,\n  'evaluation_targets': ['train', 'valid', 'test'],\n  'tensorboard_log_dir': '{MODEL_PATH}/logs',\n  'class_name': 'torch_trainer'},\n 'metadata': {'variables': {'TRANSFORMER': 'distilbert-base-uncased',\n   'ROOT_PATH': '~/.deeppavlov',\n   'DOWNLOADS_PATH': '{ROOT_PATH}/downloads',\n   'MODELS_PATH': '{ROOT_PATH}/models',\n   'MODEL_PATH': '{MODELS_PATH}/classifiers/topic_distilbert_base_v0'},\n  'download': [{'url': 'http://files.deeppavlov.ai/datasets/dp_topics_downsampled_dataset_v0.tar.gz',\n    'subdir': '{DOWNLOADS_PATH}'},\n   {'url': 'http://files.deeppavlov.ai/deeppavlov_data/classifiers/topic_distilbert_base_v0.tar.gz',\n    'subdir': '{MODELS_PATH}/classifiers'}]}}"
     },
     "execution_count": 16,
     "metadata": {},
     "output_type": "execute_result"
    }
   ],
   "source": [
    "config"
   ],
   "metadata": {
    "collapsed": false,
    "ExecuteTime": {
     "end_time": "2023-08-14T21:05:30.306580300Z",
     "start_time": "2023-08-14T21:05:30.284588Z"
    }
   },
   "id": "6f128361c3c59182"
  },
  {
   "cell_type": "code",
   "execution_count": 27,
   "outputs": [],
   "source": [
    "#train.to_csv('train.csv')\n",
    "#test.to_csv('test.csv')"
   ],
   "metadata": {
    "collapsed": false,
    "ExecuteTime": {
     "end_time": "2023-08-14T07:05:44.778129500Z",
     "start_time": "2023-08-14T07:05:44.765801300Z"
    }
   },
   "id": "9234cb610001a8df"
  },
  {
   "cell_type": "code",
   "execution_count": null,
   "outputs": [
    {
     "name": "stderr",
     "output_type": "stream",
     "text": [
      "2023-08-14 10:08:40.186 ERROR in 'deeppavlov.core.common.log_events'['log_events'] at line 49: Failed to import SummaryWriter from torch.utils.tensorboard. Failed to initialize Tensorboard logger. Install appropriate Pytorch version to use this logger or remove tensorboard_log_dir parameter from the train parameters list in the configuration file.\n",
      "2023-08-14 10:08:46.456 INFO in 'deeppavlov.core.data.simple_vocab'['simple_vocab'] at line 104: [saving vocabulary to C:\\Users\\Alexa\\.deeppavlov\\models\\classifiers\\topic_distilbert_base_v0\\classes.dict]\n",
      "Some weights of the model checkpoint at distilbert-base-uncased were not used when initializing DistilBertForSequenceClassification: ['vocab_transform.bias', 'vocab_projector.weight', 'vocab_layer_norm.weight', 'vocab_layer_norm.bias', 'vocab_transform.weight', 'vocab_projector.bias']\n",
      "- This IS expected if you are initializing DistilBertForSequenceClassification from the checkpoint of a model trained on another task or with another architecture (e.g. initializing a BertForSequenceClassification model from a BertForPreTraining model).\n",
      "- This IS NOT expected if you are initializing DistilBertForSequenceClassification from the checkpoint of a model that you expect to be exactly identical (initializing a BertForSequenceClassification model from a BertForSequenceClassification model).\n",
      "Some weights of DistilBertForSequenceClassification were not initialized from the model checkpoint at distilbert-base-uncased and are newly initialized: ['pre_classifier.bias', 'classifier.bias', 'pre_classifier.weight', 'classifier.weight']\n",
      "You should probably TRAIN this model on a down-stream task to be able to use it for predictions and inference.\n",
      "0it [00:00, ?it/s]C:\\Users\\Alexa\\.virtualenvs\\skillBox\\lib\\site-packages\\torch\\nn\\functional.py:1967: UserWarning: nn.functional.sigmoid is deprecated. Use torch.sigmoid instead.\n",
      "  warnings.warn(\"nn.functional.sigmoid is deprecated. Use torch.sigmoid instead.\")\n",
      "1785it [4:19:16,  8.77s/it]"
     ]
    }
   ],
   "source": [
    "from deeppavlov import train_model\n",
    "model = train_model(configs.classifiers.topics_distilbert_base_uncased)"
   ],
   "metadata": {
    "collapsed": false,
    "is_executing": true,
    "ExecuteTime": {
     "start_time": "2023-08-14T07:07:03.244796600Z"
    }
   },
   "id": "2ea128cf1030961d"
  },
  {
   "cell_type": "code",
   "execution_count": 28,
   "outputs": [
    {
     "name": "stderr",
     "output_type": "stream",
     "text": [
      "Some weights of the model checkpoint at distilbert-base-uncased were not used when initializing DistilBertForSequenceClassification: ['vocab_transform.bias', 'vocab_projector.weight', 'vocab_layer_norm.weight', 'vocab_layer_norm.bias', 'vocab_transform.weight', 'vocab_projector.bias']\n",
      "- This IS expected if you are initializing DistilBertForSequenceClassification from the checkpoint of a model trained on another task or with another architecture (e.g. initializing a BertForSequenceClassification model from a BertForPreTraining model).\n",
      "- This IS NOT expected if you are initializing DistilBertForSequenceClassification from the checkpoint of a model that you expect to be exactly identical (initializing a BertForSequenceClassification model from a BertForSequenceClassification model).\n",
      "Some weights of DistilBertForSequenceClassification were not initialized from the model checkpoint at distilbert-base-uncased and are newly initialized: ['pre_classifier.bias', 'classifier.bias', 'pre_classifier.weight', 'classifier.weight']\n",
      "You should probably TRAIN this model on a down-stream task to be able to use it for predictions and inference.\n"
     ]
    }
   ],
   "source": [
    "from deeppavlov import build_model, configs\n",
    "model = build_model(configs.classifiers.topics_distilbert_base_uncased, download=False)"
   ],
   "metadata": {
    "collapsed": false,
    "ExecuteTime": {
     "end_time": "2023-08-14T07:05:53.497812500Z",
     "start_time": "2023-08-14T07:05:45.422001600Z"
    }
   },
   "id": "c234b6a10735bb2b"
  },
  {
   "cell_type": "code",
   "execution_count": null,
   "outputs": [],
   "source": [
    "#%system python -m deeppavlov train topics_distilbert_base_uncased"
   ],
   "metadata": {
    "collapsed": false,
    "is_executing": true,
    "ExecuteTime": {
     "start_time": "2023-08-13T19:48:23.277977700Z"
    }
   },
   "id": "32a70461a16c2ff4"
  },
  {
   "cell_type": "code",
   "execution_count": null,
   "outputs": [],
   "source": [
    "#from sklearn.model_selection import train_test_split"
   ],
   "metadata": {
    "collapsed": false
   },
   "id": "1e319ed8ee1d0dd7"
  }
 ],
 "metadata": {
  "kernelspec": {
   "display_name": "Python 3",
   "language": "python",
   "name": "python3"
  },
  "language_info": {
   "codemirror_mode": {
    "name": "ipython",
    "version": 2
   },
   "file_extension": ".py",
   "mimetype": "text/x-python",
   "name": "python",
   "nbconvert_exporter": "python",
   "pygments_lexer": "ipython2",
   "version": "2.7.6"
  }
 },
 "nbformat": 4,
 "nbformat_minor": 5
}

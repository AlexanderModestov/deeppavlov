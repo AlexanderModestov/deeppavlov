{
  "cells": [
    {
      "cell_type": "markdown",
      "metadata": {
        "id": "view-in-github",
        "colab_type": "text"
      },
      "source": [
        "<a href=\"https://colab.research.google.com/github/AlexanderModestov/deeppavlov/blob/main/%D0%9E%D0%B1%D1%83%D1%87%D0%B5%D0%BD%D0%B8%D0%B5_%D0%BC%D0%BE%D0%B4%D0%B5%D0%BB%D0%B8_deeppavlov_(SkillBox)_rubert_2_0.ipynb\" target=\"_parent\"><img src=\"https://colab.research.google.com/assets/colab-badge.svg\" alt=\"Open In Colab\"/></a>"
      ]
    },
    {
      "cell_type": "markdown",
      "source": [],
      "metadata": {
        "id": "sc4YHNl2on4e"
      }
    },
    {
      "cell_type": "code",
      "execution_count": null,
      "metadata": {
        "id": "0LEC2C4u02mV"
      },
      "outputs": [],
      "source": [
        "! pip install deeppavlov\n",
        "! pip install transformers"
      ]
    },
    {
      "cell_type": "code",
      "source": [
        "import torch\n",
        "\n",
        "# Check if CUDA is available\n",
        "print(\"CUDA is available:\", torch.cuda.is_available())\n",
        "\n",
        "# Count of CUDA devices\n",
        "print(\"Number of GPUs:\", torch.cuda.device_count())\n",
        "\n",
        "# Name of the current CUDA device\n",
        "if torch.cuda.is_available():\n",
        "    print(\"Current CUDA device name:\", torch.cuda.get_device_name(torch.cuda.current_device()))"
      ],
      "metadata": {
        "colab": {
          "base_uri": "https://localhost:8080/"
        },
        "id": "HrCrQJlGImay",
        "outputId": "1808cf52-43eb-40ad-8c74-e5af7fdbc9c8"
      },
      "execution_count": 1,
      "outputs": [
        {
          "output_type": "stream",
          "name": "stdout",
          "text": [
            "CUDA is available: True\n",
            "Number of GPUs: 1\n",
            "Current CUDA device name: Tesla T4\n"
          ]
        }
      ]
    },
    {
      "cell_type": "code",
      "execution_count": null,
      "metadata": {
        "id": "65U2i55o1IzE"
      },
      "outputs": [],
      "source": [
        "from deeppavlov import configs, train_model, build_model\n",
        "from deeppavlov import evaluate_model\n",
        "from deeppavlov.core.commands.utils import parse_config\n",
        "from sklearn.model_selection import train_test_split\n",
        "import json\n",
        "import pandas as pd"
      ]
    },
    {
      "cell_type": "code",
      "source": [
        "from google.colab import drive\n",
        "drive.mount('/content/drive')"
      ],
      "metadata": {
        "colab": {
          "base_uri": "https://localhost:8080/"
        },
        "id": "6b0aL1L1QkfE",
        "outputId": "3552dbab-1d7d-4200-9254-7e6c95bad194"
      },
      "execution_count": null,
      "outputs": [
        {
          "output_type": "stream",
          "name": "stdout",
          "text": [
            "Drive already mounted at /content/drive; to attempt to forcibly remount, call drive.mount(\"/content/drive\", force_remount=True).\n"
          ]
        }
      ]
    },
    {
      "cell_type": "code",
      "source": [
        "#%%time\n",
        "#config = parse_config('/content/drive/MyDrive/ColabNotebooks/SkillBox/Configs/config_rubert_test_2.0.json')\n",
        "#model = train_model(config, download=False)\n",
        "#evaluate_model(config)"
      ],
      "metadata": {
        "id": "TFqvozsl9teC"
      },
      "execution_count": null,
      "outputs": []
    },
    {
      "cell_type": "code",
      "source": [
        "#%%time\n",
        "#config = parse_config('/content/drive/MyDrive/ColabNotebooks/SkillBox/Configs/config_rubert_test_10_2.0.json')\n",
        "#model_10 = train_model(config, download=False)\n",
        "#evaluate_model(config)"
      ],
      "metadata": {
        "id": "dRSnIsbbfU0O"
      },
      "execution_count": null,
      "outputs": []
    },
    {
      "cell_type": "code",
      "source": [
        "#%%time\n",
        "#config = parse_config('/content/drive/MyDrive/ColabNotebooks/SkillBox/Configs/config_rubert_test_100_2.0.json')\n",
        "#model_100 = train_model(config, download=False)\n",
        "#evaluate_model(config)"
      ],
      "metadata": {
        "id": "WS_PM5dcfUvt"
      },
      "execution_count": null,
      "outputs": []
    },
    {
      "cell_type": "code",
      "source": [
        "#%%time\n",
        "#config = parse_config('/content/drive/MyDrive/ColabNotebooks/SkillBox/Configs/config_rubert_test.json')\n",
        "#model = build_model(config, download=False)\n",
        "#evaluate_model(config)"
      ],
      "metadata": {
        "id": "tcbNjKDrIPIL"
      },
      "execution_count": null,
      "outputs": []
    },
    {
      "cell_type": "code",
      "source": [
        "config = parse_config('/content/drive/MyDrive/ColabNotebooks/SkillBox/Configs/config_rubert_test_100_2.0.json')\n",
        "model = build_model(config, download=False)\n",
        "evaluate_model(config)"
      ],
      "metadata": {
        "id": "_I0pn6L4vYTh"
      },
      "execution_count": null,
      "outputs": []
    },
    {
      "cell_type": "code",
      "source": [
        "test = pd.read_csv('/content/drive/MyDrive/ColabNotebooks/SkillBox/Data/test.csv')\n",
        "\n",
        "def get_indexes(prob, top=3):\n",
        "    sorted_indices = sorted(range(len(prob)), key=lambda k: prob[k], reverse=True)\n",
        "    return sorted_indices[:top]\n",
        "\n",
        "df = pd.DataFrame(columns=['intent', 'top_1', 'top_2', 'top_3'])\n",
        "def get_top_intents(test, model, top=3):\n",
        "    intents = list(model['classes_vocab'].keys())\n",
        "    content, fact_intent, top_1, top_2, top_3 = [], [], [], [], []\n",
        "    for index, row in test.iterrows():\n",
        "        get_probs = model([row[0]])[0][0]\n",
        "        selected = [intents[i] for i in get_indexes(get_probs)]\n",
        "        probabilities = [get_probs[i] for i in get_indexes(get_probs)]\n",
        "        print('fact: ', row[1], 'pred: ', dict(zip(selected, probabilities)))\n",
        "        content.append(row[0])\n",
        "        fact_intent.append(row[1])\n",
        "        top_1.append(selected[0])\n",
        "        top_2.append(selected[1])\n",
        "        top_3.append(selected[2])\n",
        "        # df.append([row[1], selected[0], selected[1], selected[2]])\n",
        "        # Append the new data to the DataFrame\n",
        "        print({'intent': row[1], 'top_1': selected[0], 'top_2': selected[1], 'top_3': selected[2]})\n",
        "        #df = pd.concat([df, pd.DataFrame({'intent': row[1], 'top_1': selected[0], 'top_2': selected[1], 'top_3': selected[2]})], ignore_index=True)\n",
        "    return pd.DataFrame({'content': content, 'fact': fact_intent, 'top_1': top_1, 'top_2': top_2, 'top_3': top_3})"
      ],
      "metadata": {
        "id": "eSw5zcBiOcwl"
      },
      "execution_count": null,
      "outputs": []
    },
    {
      "cell_type": "code",
      "source": [
        "res = get_top_intents(test, model, top=3)"
      ],
      "metadata": {
        "id": "ASejJ39iS3b3"
      },
      "execution_count": null,
      "outputs": []
    },
    {
      "cell_type": "code",
      "source": [
        "res"
      ],
      "metadata": {
        "id": "XR6A7ehfXAPI"
      },
      "execution_count": null,
      "outputs": []
    },
    {
      "cell_type": "code",
      "source": [
        "res.to_csv('/content/drive/MyDrive/ColabNotebooks/res_model_100.csv')"
      ],
      "metadata": {
        "id": "C3wjHY5Lgj6P"
      },
      "execution_count": null,
      "outputs": []
    },
    {
      "cell_type": "code",
      "source": [
        "#! python -m deeppavlov riseapi /content/drive/MyDrive/ColabNotebooks/SkillBox/Configs/config_rubert_test.json"
      ],
      "metadata": {
        "id": "hlC1lGVOSHpE"
      },
      "execution_count": null,
      "outputs": []
    }
  ],
  "metadata": {
    "accelerator": "GPU",
    "colab": {
      "provenance": [],
      "authorship_tag": "ABX9TyOsYtW5y7fJfdSUT56wb7NM",
      "include_colab_link": true
    },
    "kernelspec": {
      "display_name": "Python 3",
      "name": "python3"
    },
    "language_info": {
      "name": "python"
    }
  },
  "nbformat": 4,
  "nbformat_minor": 0
}
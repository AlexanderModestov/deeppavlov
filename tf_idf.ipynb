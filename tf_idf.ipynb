{
 "cells": [
  {
   "cell_type": "code",
   "execution_count": 1,
   "outputs": [
    {
     "ename": "ModuleNotFoundError",
     "evalue": "No module named 'sklearn'",
     "output_type": "error",
     "traceback": [
      "\u001B[1;31m---------------------------------------------------------------------------\u001B[0m",
      "\u001B[1;31mModuleNotFoundError\u001B[0m                       Traceback (most recent call last)",
      "Cell \u001B[1;32mIn[1], line 1\u001B[0m\n\u001B[1;32m----> 1\u001B[0m \u001B[38;5;28;01mfrom\u001B[39;00m \u001B[38;5;21;01msklearn\u001B[39;00m\u001B[38;5;21;01m.\u001B[39;00m\u001B[38;5;21;01mfeature_extraction\u001B[39;00m\u001B[38;5;21;01m.\u001B[39;00m\u001B[38;5;21;01mtext\u001B[39;00m \u001B[38;5;28;01mimport\u001B[39;00m TfidfVectorizer\n\u001B[0;32m      2\u001B[0m \u001B[38;5;28;01mimport\u001B[39;00m \u001B[38;5;21;01mpandas\u001B[39;00m \u001B[38;5;28;01mas\u001B[39;00m \u001B[38;5;21;01mpd\u001B[39;00m\n\u001B[0;32m      3\u001B[0m \u001B[38;5;28;01mfrom\u001B[39;00m \u001B[38;5;21;01mdata_preprocessing\u001B[39;00m \u001B[38;5;28;01mimport\u001B[39;00m get_words\n",
      "\u001B[1;31mModuleNotFoundError\u001B[0m: No module named 'sklearn'"
     ]
    }
   ],
   "source": [
    "from sklearn.feature_extraction.text import TfidfVectorizer\n",
    "import pandas as pd\n",
    "from data_preprocessing import get_words\n",
    "from sklearn.preprocessing import LabelEncoder"
   ],
   "metadata": {
    "collapsed": false,
    "ExecuteTime": {
     "end_time": "2023-09-06T07:43:16.496491200Z",
     "start_time": "2023-09-06T07:43:16.169030400Z"
    }
   },
   "id": "38ef22312bbb4cbc"
  },
  {
   "cell_type": "code",
   "execution_count": null,
   "outputs": [],
   "source": [
    "# Upload DataFrame:\n",
    "df = pd.read_csv('intents.csv', delimiter=';', encoding='cp1251')"
   ],
   "metadata": {
    "collapsed": false,
    "ExecuteTime": {
     "start_time": "2023-09-06T07:43:16.488440400Z"
    }
   },
   "id": "cb3d57c030fc1bfb"
  },
  {
   "cell_type": "code",
   "execution_count": null,
   "outputs": [],
   "source": [
    "df['words'] = df['content'].apply(get_words)"
   ],
   "metadata": {
    "collapsed": false,
    "ExecuteTime": {
     "start_time": "2023-09-06T07:43:16.493440200Z"
    }
   },
   "id": "cd144c4ba94c226d"
  },
  {
   "cell_type": "code",
   "execution_count": null,
   "outputs": [],
   "source": [
    "import numpy as np\n",
    "from sklearn.model_selection import train_test_split\n",
    "from sklearn.linear_model import LogisticRegression\n",
    "from sklearn.metrics import accuracy_score\n",
    "label_encoder = LabelEncoder()\n",
    "\n",
    "y_encoded = label_encoder.fit_transform(df['intent'])\n",
    "\n",
    "# Split the data into training and testing sets\n",
    "X_train, X_test, y_train, y_test = train_test_split(df['content'], y_encoded, test_size=0.2, random_state=42)"
   ],
   "metadata": {
    "collapsed": false,
    "ExecuteTime": {
     "end_time": "2023-09-06T07:43:16.500468Z",
     "start_time": "2023-09-06T07:43:16.497491Z"
    }
   },
   "id": "55c0c9a1b91f59ff"
  },
  {
   "cell_type": "code",
   "execution_count": 5,
   "outputs": [],
   "source": [
    "# Create a TF-IDF vectorizer\n",
    "tfidf_vectorizer = TfidfVectorizer()\n",
    "\n",
    "# Compute the TF-IDF representation\n",
    "tfidf_matrix = tfidf_vectorizer.fit_transform(X_train)\n",
    "tfidf_matrix_test = tfidf_vectorizer.transform(X_test)\n",
    "\n",
    "# Get feature names (terms/words) from the vectorizer\n",
    "feature_names = tfidf_vectorizer.get_feature_names_out()\n",
    "\n",
    "# Print the TF-IDF matrix\n",
    "# print(\"TF-IDF Matrix:\")\n",
    "# print(tfidf_matrix.toarray())"
   ],
   "metadata": {
    "collapsed": false,
    "ExecuteTime": {
     "end_time": "2023-08-15T07:12:40.988362200Z",
     "start_time": "2023-08-15T07:12:40.669680200Z"
    }
   },
   "id": "6af67cca702436bc"
  },
  {
   "cell_type": "code",
   "execution_count": 6,
   "outputs": [
    {
     "name": "stdout",
     "output_type": "stream",
     "text": [
      "Accuracy: 0.60\n"
     ]
    },
    {
     "name": "stderr",
     "output_type": "stream",
     "text": [
      "C:\\Users\\Alexa\\.virtualenvs\\skillBox\\lib\\site-packages\\sklearn\\linear_model\\_logistic.py:814: ConvergenceWarning: lbfgs failed to converge (status=1):\n",
      "STOP: TOTAL NO. of ITERATIONS REACHED LIMIT.\n",
      "\n",
      "Increase the number of iterations (max_iter) or scale the data as shown in:\n",
      "    https://scikit-learn.org/stable/modules/preprocessing.html\n",
      "Please also refer to the documentation for alternative solver options:\n",
      "    https://scikit-learn.org/stable/modules/linear_model.html#logistic-regression\n",
      "  n_iter_i = _check_optimize_result(\n"
     ]
    }
   ],
   "source": [
    "# Create a logistic regression model\n",
    "model = LogisticRegression()\n",
    "\n",
    "# Train the model on the training data\n",
    "model.fit(tfidf_matrix, y_train)\n",
    "\n",
    "# Make predictions on the testing data\n",
    "y_pred = model.predict(tfidf_matrix_test)\n",
    "\n",
    "# Evaluate the model's performance\n",
    "accuracy = accuracy_score(y_test, y_pred)\n",
    "print(f\"Accuracy: {accuracy:.2f}\")"
   ],
   "metadata": {
    "collapsed": false,
    "ExecuteTime": {
     "end_time": "2023-08-15T07:12:52.794374Z",
     "start_time": "2023-08-15T07:12:40.991369300Z"
    }
   },
   "id": "93a346901347dde0"
  },
  {
   "cell_type": "code",
   "execution_count": 7,
   "outputs": [
    {
     "name": "stdout",
     "output_type": "stream",
     "text": [
      "Accuracy: 0.4070017182130584\n"
     ]
    }
   ],
   "source": [
    "from sklearn.naive_bayes import MultinomialNB\n",
    "from sklearn.metrics import accuracy_score\n",
    "\n",
    "# Train Multinomial Naive Bayes Classifier\n",
    "clf = MultinomialNB()\n",
    "clf.fit(tfidf_matrix, y_train)\n",
    "\n",
    "# Predict on test set\n",
    "y_pred = clf.predict(tfidf_matrix_test)\n",
    "\n",
    "# Measure accuracy\n",
    "print(f\"Accuracy: {accuracy_score(y_test, y_pred)}\")"
   ],
   "metadata": {
    "collapsed": false,
    "ExecuteTime": {
     "end_time": "2023-08-15T07:12:52.863695600Z",
     "start_time": "2023-08-15T07:12:52.798375800Z"
    }
   },
   "id": "c6d63c995d734c1"
  },
  {
   "cell_type": "code",
   "execution_count": 9,
   "outputs": [
    {
     "name": "stdout",
     "output_type": "stream",
     "text": [
      "              precision    recall  f1-score   support\n",
      "\n",
      "           0       0.54      0.73      0.62       396\n",
      "           1       0.86      0.17      0.28       192\n",
      "           2       0.24      0.90      0.38       682\n",
      "           3       0.00      0.00      0.00        10\n",
      "           4       1.00      0.07      0.13        43\n",
      "           5       0.00      0.00      0.00         5\n",
      "           6       0.94      0.39      0.55       167\n",
      "           7       0.30      0.31      0.30       477\n",
      "           8       0.00      0.00      0.00        66\n",
      "           9       0.96      0.35      0.51       132\n",
      "          10       0.00      0.00      0.00        13\n",
      "          11       0.74      0.77      0.76       335\n",
      "          12       0.00      0.00      0.00        22\n",
      "          13       0.66      0.27      0.38       307\n",
      "          14       1.00      0.14      0.25        35\n",
      "          15       1.00      0.03      0.06        61\n",
      "          16       0.00      0.00      0.00        79\n",
      "          17       0.00      0.00      0.00        63\n",
      "          18       0.83      0.39      0.53       280\n",
      "          19       0.00      0.00      0.00         5\n",
      "          20       0.87      0.21      0.33       233\n",
      "          21       0.79      0.47      0.59       241\n",
      "          22       0.00      0.00      0.00         4\n",
      "          23       0.92      0.27      0.41        45\n",
      "          24       0.33      0.02      0.04        48\n",
      "          25       0.00      0.00      0.00         5\n",
      "          26       0.00      0.00      0.00        76\n",
      "          27       0.80      0.03      0.06       123\n",
      "          28       0.00      0.00      0.00        56\n",
      "          29       1.00      0.01      0.02       127\n",
      "          30       0.71      0.18      0.29       327\n",
      "          31       0.00      0.00      0.00         1\n",
      "\n",
      "    accuracy                           0.41      4656\n",
      "   macro avg       0.45      0.18      0.20      4656\n",
      "weighted avg       0.58      0.41      0.38      4656\n",
      "\n",
      "[[291   0  38 ...   0   1   0]\n",
      " [  0  32 151 ...   0   0   0]\n",
      " [  3   4 613 ...   0  13   0]\n",
      " ...\n",
      " [  1   0 121 ...   1   2   0]\n",
      " [  1   0 248 ...   0  59   0]\n",
      " [  0   0   1 ...   0   0   0]]\n"
     ]
    },
    {
     "name": "stderr",
     "output_type": "stream",
     "text": [
      "C:\\Users\\Alexa\\.virtualenvs\\skillBox\\lib\\site-packages\\sklearn\\metrics\\_classification.py:1318: UndefinedMetricWarning: Precision and F-score are ill-defined and being set to 0.0 in labels with no predicted samples. Use `zero_division` parameter to control this behavior.\n",
      "  _warn_prf(average, modifier, msg_start, len(result))\n",
      "C:\\Users\\Alexa\\.virtualenvs\\skillBox\\lib\\site-packages\\sklearn\\metrics\\_classification.py:1318: UndefinedMetricWarning: Precision and F-score are ill-defined and being set to 0.0 in labels with no predicted samples. Use `zero_division` parameter to control this behavior.\n",
      "  _warn_prf(average, modifier, msg_start, len(result))\n",
      "C:\\Users\\Alexa\\.virtualenvs\\skillBox\\lib\\site-packages\\sklearn\\metrics\\_classification.py:1318: UndefinedMetricWarning: Precision and F-score are ill-defined and being set to 0.0 in labels with no predicted samples. Use `zero_division` parameter to control this behavior.\n",
      "  _warn_prf(average, modifier, msg_start, len(result))\n"
     ]
    }
   ],
   "source": [
    "from sklearn.metrics import classification_report, confusion_matrix, log_loss\n",
    "\n",
    "# Given y_test and y_pred from the previous example\n",
    "\n",
    "# Precision, Recall, F1 Score for each class\n",
    "print(classification_report(y_test, y_pred))\n",
    "\n",
    "# Confusion Matrix\n",
    "print(confusion_matrix(y_test, y_pred))\n",
    "\n",
    "# Log Loss (you need prediction probabilities for this, not just class predictions)\n",
    "#y_prob = clf.predict_proba(X_test)\n",
    "#print(log_loss(y_test, y_prob))"
   ],
   "metadata": {
    "collapsed": false,
    "ExecuteTime": {
     "end_time": "2023-08-15T07:15:44.881395300Z",
     "start_time": "2023-08-15T07:15:44.849395500Z"
    }
   },
   "id": "24e418a495d5762"
  },
  {
   "cell_type": "code",
   "execution_count": 10,
   "outputs": [
    {
     "data": {
      "text/plain": "array([[291,   0,  38, ...,   0,   1,   0],\n       [  0,  32, 151, ...,   0,   0,   0],\n       [  3,   4, 613, ...,   0,  13,   0],\n       ...,\n       [  1,   0, 121, ...,   1,   2,   0],\n       [  1,   0, 248, ...,   0,  59,   0],\n       [  0,   0,   1, ...,   0,   0,   0]], dtype=int64)"
     },
     "execution_count": 10,
     "metadata": {},
     "output_type": "execute_result"
    }
   ],
   "source": [
    "confusion_matrix(y_test, y_pred)"
   ],
   "metadata": {
    "collapsed": false,
    "ExecuteTime": {
     "end_time": "2023-08-15T07:16:12.357456900Z",
     "start_time": "2023-08-15T07:16:12.330438100Z"
    }
   },
   "id": "4dccff236c824574"
  },
  {
   "cell_type": "code",
   "execution_count": 11,
   "outputs": [
    {
     "data": {
      "text/plain": "array([ 0,  0,  0, ..., 30, 30,  2])"
     },
     "execution_count": 11,
     "metadata": {},
     "output_type": "execute_result"
    }
   ],
   "source": [
    "y_encoded"
   ],
   "metadata": {
    "collapsed": false,
    "ExecuteTime": {
     "end_time": "2023-08-15T07:17:42.615927900Z",
     "start_time": "2023-08-15T07:17:42.555073400Z"
    }
   },
   "id": "53686d12a61ac873"
  },
  {
   "cell_type": "code",
   "execution_count": 15,
   "outputs": [
    {
     "data": {
      "text/plain": "                  0\nБлагодарность     0\nБлагодарность     0\nБлагодарность     0\nБлагодарность     0\nБлагодарность     0\n...              ..\nВопрос по курсу   2\nЦена             30\nЦена             30\nЦена             30\nВопрос по курсу   2\n\n[23277 rows x 1 columns]",
      "text/html": "<div>\n<style scoped>\n    .dataframe tbody tr th:only-of-type {\n        vertical-align: middle;\n    }\n\n    .dataframe tbody tr th {\n        vertical-align: top;\n    }\n\n    .dataframe thead th {\n        text-align: right;\n    }\n</style>\n<table border=\"1\" class=\"dataframe\">\n  <thead>\n    <tr style=\"text-align: right;\">\n      <th></th>\n      <th>0</th>\n    </tr>\n  </thead>\n  <tbody>\n    <tr>\n      <th>Благодарность</th>\n      <td>0</td>\n    </tr>\n    <tr>\n      <th>Благодарность</th>\n      <td>0</td>\n    </tr>\n    <tr>\n      <th>Благодарность</th>\n      <td>0</td>\n    </tr>\n    <tr>\n      <th>Благодарность</th>\n      <td>0</td>\n    </tr>\n    <tr>\n      <th>Благодарность</th>\n      <td>0</td>\n    </tr>\n    <tr>\n      <th>...</th>\n      <td>...</td>\n    </tr>\n    <tr>\n      <th>Вопрос по курсу</th>\n      <td>2</td>\n    </tr>\n    <tr>\n      <th>Цена</th>\n      <td>30</td>\n    </tr>\n    <tr>\n      <th>Цена</th>\n      <td>30</td>\n    </tr>\n    <tr>\n      <th>Цена</th>\n      <td>30</td>\n    </tr>\n    <tr>\n      <th>Вопрос по курсу</th>\n      <td>2</td>\n    </tr>\n  </tbody>\n</table>\n<p>23277 rows × 1 columns</p>\n</div>"
     },
     "execution_count": 15,
     "metadata": {},
     "output_type": "execute_result"
    }
   ],
   "source": [
    "pd.DataFrame(y_encoded, label_encoder.inverse_transform(y_encoded))"
   ],
   "metadata": {
    "collapsed": false,
    "ExecuteTime": {
     "end_time": "2023-08-15T07:20:03.006030200Z",
     "start_time": "2023-08-15T07:20:02.977038800Z"
    }
   },
   "id": "ddbb078a23c0ccb0"
  },
  {
   "cell_type": "code",
   "execution_count": null,
   "outputs": [],
   "source": [],
   "metadata": {
    "collapsed": false
   },
   "id": "fd6a959d50478995"
  }
 ],
 "metadata": {
  "kernelspec": {
   "display_name": "Python 3",
   "language": "python",
   "name": "python3"
  },
  "language_info": {
   "codemirror_mode": {
    "name": "ipython",
    "version": 2
   },
   "file_extension": ".py",
   "mimetype": "text/x-python",
   "name": "python",
   "nbconvert_exporter": "python",
   "pygments_lexer": "ipython2",
   "version": "2.7.6"
  }
 },
 "nbformat": 4,
 "nbformat_minor": 5
}

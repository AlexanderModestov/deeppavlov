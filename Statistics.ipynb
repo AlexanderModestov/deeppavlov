{
 "cells": [
  {
   "cell_type": "code",
   "execution_count": 1,
   "id": "initial_id",
   "metadata": {
    "collapsed": true,
    "ExecuteTime": {
     "end_time": "2023-09-06T07:58:45.832566200Z",
     "start_time": "2023-09-06T07:58:45.535739700Z"
    }
   },
   "outputs": [
    {
     "ename": "ModuleNotFoundError",
     "evalue": "No module named 'pandas'",
     "output_type": "error",
     "traceback": [
      "\u001B[1;31m---------------------------------------------------------------------------\u001B[0m",
      "\u001B[1;31mModuleNotFoundError\u001B[0m                       Traceback (most recent call last)",
      "Cell \u001B[1;32mIn[1], line 1\u001B[0m\n\u001B[1;32m----> 1\u001B[0m \u001B[38;5;28;01mimport\u001B[39;00m \u001B[38;5;21;01mpandas\u001B[39;00m \u001B[38;5;28;01mas\u001B[39;00m \u001B[38;5;21;01mpd\u001B[39;00m\n\u001B[0;32m      2\u001B[0m \u001B[38;5;28;01mfrom\u001B[39;00m \u001B[38;5;21;01mcollections\u001B[39;00m \u001B[38;5;28;01mimport\u001B[39;00m Counter\n",
      "\u001B[1;31mModuleNotFoundError\u001B[0m: No module named 'pandas'"
     ]
    }
   ],
   "source": [
    "import pandas as pd\n",
    "from collections import Counter"
   ]
  },
  {
   "cell_type": "code",
   "execution_count": null,
   "outputs": [],
   "source": [
    "import nltk\n",
    "import re\n",
    "import pymorphy2\n",
    "nltk.download('stopwords')\n",
    "nltk.download('punkt')\n",
    "from nltk.corpus import stopwords"
   ],
   "metadata": {
    "collapsed": false,
    "ExecuteTime": {
     "start_time": "2023-09-06T07:58:45.833561300Z"
    }
   },
   "id": "363f4138361a440b"
  },
  {
   "cell_type": "code",
   "execution_count": null,
   "outputs": [],
   "source": [
    "morph = pymorphy2.MorphAnalyzer()"
   ],
   "metadata": {
    "collapsed": false,
    "ExecuteTime": {
     "end_time": "2023-09-06T07:58:45.860716800Z",
     "start_time": "2023-09-06T07:58:45.836558500Z"
    }
   },
   "id": "6d0dbdf67f2a260a"
  },
  {
   "cell_type": "code",
   "execution_count": null,
   "outputs": [],
   "source": [
    "# Widen list of stop-words:\n",
    "stop_words = stopwords.words('russian')"
   ],
   "metadata": {
    "collapsed": false,
    "ExecuteTime": {
     "start_time": "2023-09-06T07:58:45.839556500Z"
    }
   },
   "id": "8f53fcb34a2b0463"
  },
  {
   "cell_type": "code",
   "execution_count": null,
   "outputs": [],
   "source": [
    "# Upload DataFrame:\n",
    "df = pd.read_csv('intents.csv', delimiter=';', encoding='cp1251')"
   ],
   "metadata": {
    "collapsed": false,
    "ExecuteTime": {
     "start_time": "2023-09-06T07:58:45.841562300Z"
    }
   },
   "id": "3806aa7de4f69022"
  },
  {
   "cell_type": "code",
   "execution_count": null,
   "outputs": [],
   "source": [
    "def get_words(sentence):\n",
    "    words = nltk.word_tokenize(sentence)\n",
    "    temp=[]\n",
    "    for word in words:\n",
    "        word = re.sub('[^a-zа-я-]', '', word.lower())\n",
    "        if len(word)<4: continue\n",
    "        word = morph.parse(word)\n",
    "        if word[0].normal_form in stop_words: continue\n",
    "        temp.append(word[0].normal_form)\n",
    "    return temp"
   ],
   "metadata": {
    "collapsed": false,
    "ExecuteTime": {
     "start_time": "2023-09-06T07:58:45.843720Z"
    }
   },
   "id": "f3b9b7ab8958d060"
  },
  {
   "cell_type": "code",
   "execution_count": 2,
   "outputs": [
    {
     "ename": "NameError",
     "evalue": "name 'df' is not defined",
     "output_type": "error",
     "traceback": [
      "\u001B[1;31m---------------------------------------------------------------------------\u001B[0m",
      "\u001B[1;31mNameError\u001B[0m                                 Traceback (most recent call last)",
      "Cell \u001B[1;32mIn[2], line 1\u001B[0m\n\u001B[1;32m----> 1\u001B[0m df[\u001B[38;5;124m'\u001B[39m\u001B[38;5;124mwords\u001B[39m\u001B[38;5;124m'\u001B[39m] \u001B[38;5;241m=\u001B[39m \u001B[43mdf\u001B[49m[\u001B[38;5;124m'\u001B[39m\u001B[38;5;124mcontent\u001B[39m\u001B[38;5;124m'\u001B[39m]\u001B[38;5;241m.\u001B[39mapply(get_words)\n",
      "\u001B[1;31mNameError\u001B[0m: name 'df' is not defined"
     ]
    }
   ],
   "source": [
    "df['words'] = df['content'].apply(get_words)"
   ],
   "metadata": {
    "collapsed": false,
    "ExecuteTime": {
     "end_time": "2023-09-06T07:58:46.172564Z",
     "start_time": "2023-09-06T07:58:46.094311Z"
    }
   },
   "id": "ee7eb93193dce1ea"
  },
  {
   "cell_type": "code",
   "execution_count": 3,
   "outputs": [
    {
     "ename": "NameError",
     "evalue": "name 'df' is not defined",
     "output_type": "error",
     "traceback": [
      "\u001B[1;31m---------------------------------------------------------------------------\u001B[0m",
      "\u001B[1;31mNameError\u001B[0m                                 Traceback (most recent call last)",
      "Cell \u001B[1;32mIn[3], line 1\u001B[0m\n\u001B[1;32m----> 1\u001B[0m \u001B[43mdf\u001B[49m\n",
      "\u001B[1;31mNameError\u001B[0m: name 'df' is not defined"
     ]
    }
   ],
   "source": [
    "df"
   ],
   "metadata": {
    "collapsed": false,
    "ExecuteTime": {
     "end_time": "2023-09-06T07:58:46.513994400Z",
     "start_time": "2023-09-06T07:58:46.447663Z"
    }
   },
   "id": "57f34955e42b4a74"
  },
  {
   "cell_type": "code",
   "execution_count": 4,
   "outputs": [],
   "source": [
    "def concat_lists(list_of_lists):\n",
    "    result = []\n",
    "    for list in list_of_lists:\n",
    "        for item in list:\n",
    "            result.append(item)\n",
    "    return result\n",
    "\n",
    "def top_n(counter):\n",
    "    parameter = 20\n",
    "    key_points = counter.most_common(parameter)\n",
    "    key_words = []\n",
    "    for item in key_points:\n",
    "        key_words.append(item[0])\n",
    "    return key_words"
   ],
   "metadata": {
    "collapsed": false,
    "ExecuteTime": {
     "end_time": "2023-09-06T07:58:47.004058600Z",
     "start_time": "2023-09-06T07:58:46.975058100Z"
    }
   },
   "id": "3d33bca698e9b203"
  },
  {
   "cell_type": "code",
   "execution_count": 41,
   "outputs": [
    {
     "data": {
      "text/plain": "                   intent                                              words\n0           Благодарность  [спасибо, курс, большой, добрый, благодарить, ...\n1                 Возраст  [курс, сколько, здравствуйте, возраст, хотеть,...\n2         Вопрос по курсу  [курс, обучение, хотеть, сколько, здравствуйте...\n3                   Вышка  [высокий, образование, диплом, хотеть, получит...\n4               Документы  [лицензия, обучение, курс, договор, образовате...\n5              Записаться  [курс, хотеть, добрый, сертификат, день, запис...\n6                Интенсив  [интенсив, запись, вебинар, ссылка, бесплатный...\n7            Консультация  [курс, хотеть, скидка, пока, мочь, здравствуйт...\n8            Не определен  [курс, ndash, пока, нужный, https, профессия, ...\n9       Не перезвонил МОП  [перезвонить, связаться, курс, никто, день, за...\n10               Обучение  [курс, обучение, сколько, хотеть, пройти, меся...\n11      Ответ на недозвон  [актуальный, мочь, позвонить, здравствуйте, за...\n12                 Отзывы  [отзыв, курс, ваш, день, почитать, хотеть, спа...\n13                  Отказ  [спасибо, пока, курс, добрый, здравствуйте, об...\n14             Отписаться  [отписаться, рассылка, хотеть, отписать, ваш, ...\n15                Подарки  [сертификат, курс, подарок, подарочный, хотеть...\n16               Прощание  [спасибо, хороший, вечер, пока, большой, добры...\n17  Работать у вас/нанять  [вакансия, ваш, добрый, курс, хотеть, работа, ...\n18              Рассрочка  [рассрочка, курс, оплата, месяц, обучение, хот...\n19  Реферальная программа  [реферальный, ссылка, курс, программа, хотеть,...\n20                Саппорт  [курс, мочь, хотеть, здравствуйте, обучение, д...\n21             Сертификат  [сертификат, курс, диплом, обучение, окончание...\n22    Социальный контракт  [лицензия, обучение, контракт, хотеть, курс, д...\n23                   Спам  [https, это, запись, стена, делать, vkcomwall-...\n24    Сравнение продуктов  [курс, отличаться, разница, профессия, нуль, р...\n25      Ссылка на вебинар  [курс, интенсив, ссылка, добрый, хотеть, запис...\n26        Тестовые режимы  [курс, бесплатный, бесплатно, обучение, день, ...\n27        Трудоустройство  [курс, трудоустройство, работать, обучение, ра...\n28          Уже связались  [спасибо, курс, связаться, позвонить, здравств...\n29        Формат обучения  [обучение, курс, проходить, сколько, формат, х...\n30                   Цена  [курс, стоимость, сколько, обучение, стоить, ц...\n31                   Юрик  [хотеть, обучение, компания, курс, цена, сотру...",
      "text/html": "<div>\n<style scoped>\n    .dataframe tbody tr th:only-of-type {\n        vertical-align: middle;\n    }\n\n    .dataframe tbody tr th {\n        vertical-align: top;\n    }\n\n    .dataframe thead th {\n        text-align: right;\n    }\n</style>\n<table border=\"1\" class=\"dataframe\">\n  <thead>\n    <tr style=\"text-align: right;\">\n      <th></th>\n      <th>intent</th>\n      <th>words</th>\n    </tr>\n  </thead>\n  <tbody>\n    <tr>\n      <th>0</th>\n      <td>Благодарность</td>\n      <td>[спасибо, курс, большой, добрый, благодарить, ...</td>\n    </tr>\n    <tr>\n      <th>1</th>\n      <td>Возраст</td>\n      <td>[курс, сколько, здравствуйте, возраст, хотеть,...</td>\n    </tr>\n    <tr>\n      <th>2</th>\n      <td>Вопрос по курсу</td>\n      <td>[курс, обучение, хотеть, сколько, здравствуйте...</td>\n    </tr>\n    <tr>\n      <th>3</th>\n      <td>Вышка</td>\n      <td>[высокий, образование, диплом, хотеть, получит...</td>\n    </tr>\n    <tr>\n      <th>4</th>\n      <td>Документы</td>\n      <td>[лицензия, обучение, курс, договор, образовате...</td>\n    </tr>\n    <tr>\n      <th>5</th>\n      <td>Записаться</td>\n      <td>[курс, хотеть, добрый, сертификат, день, запис...</td>\n    </tr>\n    <tr>\n      <th>6</th>\n      <td>Интенсив</td>\n      <td>[интенсив, запись, вебинар, ссылка, бесплатный...</td>\n    </tr>\n    <tr>\n      <th>7</th>\n      <td>Консультация</td>\n      <td>[курс, хотеть, скидка, пока, мочь, здравствуйт...</td>\n    </tr>\n    <tr>\n      <th>8</th>\n      <td>Не определен</td>\n      <td>[курс, ndash, пока, нужный, https, профессия, ...</td>\n    </tr>\n    <tr>\n      <th>9</th>\n      <td>Не перезвонил МОП</td>\n      <td>[перезвонить, связаться, курс, никто, день, за...</td>\n    </tr>\n    <tr>\n      <th>10</th>\n      <td>Обучение</td>\n      <td>[курс, обучение, сколько, хотеть, пройти, меся...</td>\n    </tr>\n    <tr>\n      <th>11</th>\n      <td>Ответ на недозвон</td>\n      <td>[актуальный, мочь, позвонить, здравствуйте, за...</td>\n    </tr>\n    <tr>\n      <th>12</th>\n      <td>Отзывы</td>\n      <td>[отзыв, курс, ваш, день, почитать, хотеть, спа...</td>\n    </tr>\n    <tr>\n      <th>13</th>\n      <td>Отказ</td>\n      <td>[спасибо, пока, курс, добрый, здравствуйте, об...</td>\n    </tr>\n    <tr>\n      <th>14</th>\n      <td>Отписаться</td>\n      <td>[отписаться, рассылка, хотеть, отписать, ваш, ...</td>\n    </tr>\n    <tr>\n      <th>15</th>\n      <td>Подарки</td>\n      <td>[сертификат, курс, подарок, подарочный, хотеть...</td>\n    </tr>\n    <tr>\n      <th>16</th>\n      <td>Прощание</td>\n      <td>[спасибо, хороший, вечер, пока, большой, добры...</td>\n    </tr>\n    <tr>\n      <th>17</th>\n      <td>Работать у вас/нанять</td>\n      <td>[вакансия, ваш, добрый, курс, хотеть, работа, ...</td>\n    </tr>\n    <tr>\n      <th>18</th>\n      <td>Рассрочка</td>\n      <td>[рассрочка, курс, оплата, месяц, обучение, хот...</td>\n    </tr>\n    <tr>\n      <th>19</th>\n      <td>Реферальная программа</td>\n      <td>[реферальный, ссылка, курс, программа, хотеть,...</td>\n    </tr>\n    <tr>\n      <th>20</th>\n      <td>Саппорт</td>\n      <td>[курс, мочь, хотеть, здравствуйте, обучение, д...</td>\n    </tr>\n    <tr>\n      <th>21</th>\n      <td>Сертификат</td>\n      <td>[сертификат, курс, диплом, обучение, окончание...</td>\n    </tr>\n    <tr>\n      <th>22</th>\n      <td>Социальный контракт</td>\n      <td>[лицензия, обучение, контракт, хотеть, курс, д...</td>\n    </tr>\n    <tr>\n      <th>23</th>\n      <td>Спам</td>\n      <td>[https, это, запись, стена, делать, vkcomwall-...</td>\n    </tr>\n    <tr>\n      <th>24</th>\n      <td>Сравнение продуктов</td>\n      <td>[курс, отличаться, разница, профессия, нуль, р...</td>\n    </tr>\n    <tr>\n      <th>25</th>\n      <td>Ссылка на вебинар</td>\n      <td>[курс, интенсив, ссылка, добрый, хотеть, запис...</td>\n    </tr>\n    <tr>\n      <th>26</th>\n      <td>Тестовые режимы</td>\n      <td>[курс, бесплатный, бесплатно, обучение, день, ...</td>\n    </tr>\n    <tr>\n      <th>27</th>\n      <td>Трудоустройство</td>\n      <td>[курс, трудоустройство, работать, обучение, ра...</td>\n    </tr>\n    <tr>\n      <th>28</th>\n      <td>Уже связались</td>\n      <td>[спасибо, курс, связаться, позвонить, здравств...</td>\n    </tr>\n    <tr>\n      <th>29</th>\n      <td>Формат обучения</td>\n      <td>[обучение, курс, проходить, сколько, формат, х...</td>\n    </tr>\n    <tr>\n      <th>30</th>\n      <td>Цена</td>\n      <td>[курс, стоимость, сколько, обучение, стоить, ц...</td>\n    </tr>\n    <tr>\n      <th>31</th>\n      <td>Юрик</td>\n      <td>[хотеть, обучение, компания, курс, цена, сотру...</td>\n    </tr>\n  </tbody>\n</table>\n</div>"
     },
     "execution_count": 41,
     "metadata": {},
     "output_type": "execute_result"
    }
   ],
   "source": [
    "# Выбор ключевых слов для категории:\n",
    "res = df.groupby('intent')['words'].apply(list).reset_index()\n",
    "\n",
    "res.loc[:, 'words'] = res.loc[:, 'words'].apply(concat_lists)\n",
    "res.loc[:, 'words'] = res.loc[:, 'words'].apply(Counter)\n",
    "res.loc[:, 'words'] = res.loc[:, 'words'].apply(top_n)\n",
    "res"
   ],
   "metadata": {
    "collapsed": false,
    "ExecuteTime": {
     "end_time": "2023-08-11T06:12:02.811132700Z",
     "start_time": "2023-08-11T06:12:02.683951500Z"
    }
   },
   "id": "891deb98778c8a03"
  },
  {
   "cell_type": "code",
   "execution_count": 42,
   "outputs": [],
   "source": [
    " cross = pd.merge(res, res, how='cross')"
   ],
   "metadata": {
    "collapsed": false,
    "ExecuteTime": {
     "end_time": "2023-08-11T06:12:02.812133200Z",
     "start_time": "2023-08-11T06:12:02.778577400Z"
    }
   },
   "id": "b1d4c09bdf4d44fd"
  },
  {
   "cell_type": "code",
   "execution_count": 43,
   "outputs": [],
   "source": [
    "def interception(list_of_words, key_words):\n",
    "    return len(set(list_of_words).intersection(key_words))"
   ],
   "metadata": {
    "collapsed": false,
    "ExecuteTime": {
     "end_time": "2023-08-11T06:12:02.812133200Z",
     "start_time": "2023-08-11T06:12:02.797129700Z"
    }
   },
   "id": "fa9119ebd181a7f7"
  },
  {
   "cell_type": "code",
   "execution_count": 44,
   "outputs": [],
   "source": [
    "cross['intersection'] = cross.apply(lambda x: interception(x[1], x[3]), axis=1)"
   ],
   "metadata": {
    "collapsed": false,
    "ExecuteTime": {
     "end_time": "2023-08-11T06:12:02.840139300Z",
     "start_time": "2023-08-11T06:12:02.811132700Z"
    }
   },
   "id": "7d8e9c39ab7fba98"
  },
  {
   "cell_type": "code",
   "execution_count": 45,
   "outputs": [
    {
     "data": {
      "text/plain": "           intent_x                                            words_x  \\\n0     Благодарность  [спасибо, курс, большой, добрый, благодарить, ...   \n1     Благодарность  [спасибо, курс, большой, добрый, благодарить, ...   \n2     Благодарность  [спасибо, курс, большой, добрый, благодарить, ...   \n3     Благодарность  [спасибо, курс, большой, добрый, благодарить, ...   \n4     Благодарность  [спасибо, курс, большой, добрый, благодарить, ...   \n...             ...                                                ...   \n1019           Юрик  [хотеть, обучение, компания, курс, цена, сотру...   \n1020           Юрик  [хотеть, обучение, компания, курс, цена, сотру...   \n1021           Юрик  [хотеть, обучение, компания, курс, цена, сотру...   \n1022           Юрик  [хотеть, обучение, компания, курс, цена, сотру...   \n1023           Юрик  [хотеть, обучение, компания, курс, цена, сотру...   \n\n             intent_y                                            words_y  \\\n0       Благодарность  [спасибо, курс, большой, добрый, благодарить, ...   \n1             Возраст  [курс, сколько, здравствуйте, возраст, хотеть,...   \n2     Вопрос по курсу  [курс, обучение, хотеть, сколько, здравствуйте...   \n3               Вышка  [высокий, образование, диплом, хотеть, получит...   \n4           Документы  [лицензия, обучение, курс, договор, образовате...   \n...               ...                                                ...   \n1019  Трудоустройство  [курс, трудоустройство, работать, обучение, ра...   \n1020    Уже связались  [спасибо, курс, связаться, позвонить, здравств...   \n1021  Формат обучения  [обучение, курс, проходить, сколько, формат, х...   \n1022             Цена  [курс, стоимость, сколько, обучение, стоить, ц...   \n1023             Юрик  [хотеть, обучение, компания, курс, цена, сотру...   \n\n      intersection  \n0               20  \n1                8  \n2                9  \n3                6  \n4                7  \n...            ...  \n1019             6  \n1020             5  \n1021             6  \n1022             7  \n1023            20  \n\n[1024 rows x 5 columns]",
      "text/html": "<div>\n<style scoped>\n    .dataframe tbody tr th:only-of-type {\n        vertical-align: middle;\n    }\n\n    .dataframe tbody tr th {\n        vertical-align: top;\n    }\n\n    .dataframe thead th {\n        text-align: right;\n    }\n</style>\n<table border=\"1\" class=\"dataframe\">\n  <thead>\n    <tr style=\"text-align: right;\">\n      <th></th>\n      <th>intent_x</th>\n      <th>words_x</th>\n      <th>intent_y</th>\n      <th>words_y</th>\n      <th>intersection</th>\n    </tr>\n  </thead>\n  <tbody>\n    <tr>\n      <th>0</th>\n      <td>Благодарность</td>\n      <td>[спасибо, курс, большой, добрый, благодарить, ...</td>\n      <td>Благодарность</td>\n      <td>[спасибо, курс, большой, добрый, благодарить, ...</td>\n      <td>20</td>\n    </tr>\n    <tr>\n      <th>1</th>\n      <td>Благодарность</td>\n      <td>[спасибо, курс, большой, добрый, благодарить, ...</td>\n      <td>Возраст</td>\n      <td>[курс, сколько, здравствуйте, возраст, хотеть,...</td>\n      <td>8</td>\n    </tr>\n    <tr>\n      <th>2</th>\n      <td>Благодарность</td>\n      <td>[спасибо, курс, большой, добрый, благодарить, ...</td>\n      <td>Вопрос по курсу</td>\n      <td>[курс, обучение, хотеть, сколько, здравствуйте...</td>\n      <td>9</td>\n    </tr>\n    <tr>\n      <th>3</th>\n      <td>Благодарность</td>\n      <td>[спасибо, курс, большой, добрый, благодарить, ...</td>\n      <td>Вышка</td>\n      <td>[высокий, образование, диплом, хотеть, получит...</td>\n      <td>6</td>\n    </tr>\n    <tr>\n      <th>4</th>\n      <td>Благодарность</td>\n      <td>[спасибо, курс, большой, добрый, благодарить, ...</td>\n      <td>Документы</td>\n      <td>[лицензия, обучение, курс, договор, образовате...</td>\n      <td>7</td>\n    </tr>\n    <tr>\n      <th>...</th>\n      <td>...</td>\n      <td>...</td>\n      <td>...</td>\n      <td>...</td>\n      <td>...</td>\n    </tr>\n    <tr>\n      <th>1019</th>\n      <td>Юрик</td>\n      <td>[хотеть, обучение, компания, курс, цена, сотру...</td>\n      <td>Трудоустройство</td>\n      <td>[курс, трудоустройство, работать, обучение, ра...</td>\n      <td>6</td>\n    </tr>\n    <tr>\n      <th>1020</th>\n      <td>Юрик</td>\n      <td>[хотеть, обучение, компания, курс, цена, сотру...</td>\n      <td>Уже связались</td>\n      <td>[спасибо, курс, связаться, позвонить, здравств...</td>\n      <td>5</td>\n    </tr>\n    <tr>\n      <th>1021</th>\n      <td>Юрик</td>\n      <td>[хотеть, обучение, компания, курс, цена, сотру...</td>\n      <td>Формат обучения</td>\n      <td>[обучение, курс, проходить, сколько, формат, х...</td>\n      <td>6</td>\n    </tr>\n    <tr>\n      <th>1022</th>\n      <td>Юрик</td>\n      <td>[хотеть, обучение, компания, курс, цена, сотру...</td>\n      <td>Цена</td>\n      <td>[курс, стоимость, сколько, обучение, стоить, ц...</td>\n      <td>7</td>\n    </tr>\n    <tr>\n      <th>1023</th>\n      <td>Юрик</td>\n      <td>[хотеть, обучение, компания, курс, цена, сотру...</td>\n      <td>Юрик</td>\n      <td>[хотеть, обучение, компания, курс, цена, сотру...</td>\n      <td>20</td>\n    </tr>\n  </tbody>\n</table>\n<p>1024 rows × 5 columns</p>\n</div>"
     },
     "execution_count": 45,
     "metadata": {},
     "output_type": "execute_result"
    }
   ],
   "source": [
    "cross"
   ],
   "metadata": {
    "collapsed": false,
    "ExecuteTime": {
     "end_time": "2023-08-11T06:12:02.883233400Z",
     "start_time": "2023-08-11T06:12:02.826132100Z"
    }
   },
   "id": "ac47499cd38f73c7"
  },
  {
   "cell_type": "code",
   "execution_count": 46,
   "outputs": [],
   "source": [
    "cross.to_csv('interception.csv')"
   ],
   "metadata": {
    "collapsed": false,
    "ExecuteTime": {
     "end_time": "2023-08-11T06:12:02.914509700Z",
     "start_time": "2023-08-11T06:12:02.857818700Z"
    }
   },
   "id": "9f094d5dfec5b787"
  },
  {
   "cell_type": "code",
   "execution_count": null,
   "outputs": [],
   "source": [],
   "metadata": {
    "collapsed": false
   },
   "id": "aef72a308c8176ee"
  }
 ],
 "metadata": {
  "kernelspec": {
   "display_name": "Python 3",
   "language": "python",
   "name": "python3"
  },
  "language_info": {
   "codemirror_mode": {
    "name": "ipython",
    "version": 2
   },
   "file_extension": ".py",
   "mimetype": "text/x-python",
   "name": "python",
   "nbconvert_exporter": "python",
   "pygments_lexer": "ipython2",
   "version": "2.7.6"
  }
 },
 "nbformat": 4,
 "nbformat_minor": 5
}
